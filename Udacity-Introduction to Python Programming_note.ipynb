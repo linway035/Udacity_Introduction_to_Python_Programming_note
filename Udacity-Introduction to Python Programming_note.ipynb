{
 "cells": [
  {
   "cell_type": "markdown",
   "id": "793824a4",
   "metadata": {},
   "source": [
    "# list與string不同，因為list可變"
   ]
  },
  {
   "cell_type": "code",
   "execution_count": 1,
   "id": "42fb1dfc",
   "metadata": {},
   "outputs": [
    {
     "name": "stdout",
     "output_type": "stream",
     "text": [
      "tim\n",
      "jim\n"
     ]
    }
   ],
   "source": [
    "name=\"jim\"\n",
    "student=name\n",
    "name=\"tim\"\n",
    "print(name)\n",
    "print(student)"
   ]
  },
  {
   "cell_type": "code",
   "execution_count": 2,
   "id": "c3c8f173",
   "metadata": {},
   "outputs": [
    {
     "name": "stdout",
     "output_type": "stream",
     "text": [
      "['b', 'xx', 'a']\n",
      "['b', 'xx', 'a']\n"
     ]
    }
   ],
   "source": [
    "scores=[\"b\",\"c\",\"a\"]\n",
    "grades=scores\n",
    "scores[1]=\"xx\"\n",
    "print(scores)\n",
    "print(grades)"
   ]
  },
  {
   "cell_type": "markdown",
   "id": "88eb152d",
   "metadata": {},
   "source": [
    "# 字串符也可以比大小，依照ASCII碼"
   ]
  },
  {
   "cell_type": "code",
   "execution_count": 3,
   "id": "a413a60e",
   "metadata": {},
   "outputs": [
    {
     "name": "stdout",
     "output_type": "stream",
     "text": [
      "66 \n",
      "\n",
      "ze\n",
      "Zde\n"
     ]
    },
    {
     "ename": "TypeError",
     "evalue": "'>' not supported between instances of 'str' and 'int'",
     "output_type": "error",
     "traceback": [
      "\u001b[1;31m---------------------------------------------------------------------------\u001b[0m",
      "\u001b[1;31mTypeError\u001b[0m                                 Traceback (most recent call last)",
      "\u001b[1;32m~\\AppData\\Local\\Temp/ipykernel_4900/2462515079.py\u001b[0m in \u001b[0;36m<module>\u001b[1;34m\u001b[0m\n\u001b[0;32m      5\u001b[0m \u001b[0mprint\u001b[0m\u001b[1;33m(\u001b[0m\u001b[0mmin\u001b[0m\u001b[1;33m(\u001b[0m\u001b[0my\u001b[0m\u001b[1;33m)\u001b[0m\u001b[1;33m)\u001b[0m\u001b[1;33m\u001b[0m\u001b[1;33m\u001b[0m\u001b[0m\n\u001b[0;32m      6\u001b[0m \u001b[0mz\u001b[0m\u001b[1;33m=\u001b[0m\u001b[1;33m[\u001b[0m\u001b[1;36m42\u001b[0m\u001b[1;33m,\u001b[0m\u001b[1;34m\"aa\"\u001b[0m\u001b[1;33m,\u001b[0m\u001b[1;34m'BB'\u001b[0m\u001b[1;33m]\u001b[0m\u001b[1;33m\u001b[0m\u001b[1;33m\u001b[0m\u001b[0m\n\u001b[1;32m----> 7\u001b[1;33m \u001b[0mprint\u001b[0m\u001b[1;33m(\u001b[0m\u001b[0mmax\u001b[0m\u001b[1;33m(\u001b[0m\u001b[0mz\u001b[0m\u001b[1;33m)\u001b[0m\u001b[1;33m)\u001b[0m\u001b[1;33m\u001b[0m\u001b[1;33m\u001b[0m\u001b[0m\n\u001b[0m\u001b[0;32m      8\u001b[0m \u001b[0mprint\u001b[0m\u001b[1;33m(\u001b[0m\u001b[0mmin\u001b[0m\u001b[1;33m(\u001b[0m\u001b[0mz\u001b[0m\u001b[1;33m)\u001b[0m\u001b[1;33m)\u001b[0m\u001b[1;33m\u001b[0m\u001b[1;33m\u001b[0m\u001b[0m\n",
      "\u001b[1;31mTypeError\u001b[0m: '>' not supported between instances of 'str' and 'int'"
     ]
    }
   ],
   "source": [
    "x = [15,22,66,48]\n",
    "print(max(x),\"\\n\")\n",
    "y=[\"cake\",\"fdo\",\"kpgf\",\"dde\",\"zde\",\"udac\",\"Zde\",\"ze\"]\n",
    "print(max(y))\n",
    "print(min(y))\n",
    "z=[42,\"aa\",'BB']\n",
    "print(max(z))\n",
    "print(min(z))"
   ]
  },
  {
   "cell_type": "markdown",
   "id": "31c9aef1",
   "metadata": {},
   "source": [
    "# 二進位與十進位問題"
   ]
  },
  {
   "cell_type": "code",
   "execution_count": 4,
   "id": "9fd8b842",
   "metadata": {},
   "outputs": [
    {
     "data": {
      "text/plain": [
       "False"
      ]
     },
     "execution_count": 4,
     "metadata": {},
     "output_type": "execute_result"
    }
   ],
   "source": [
    "0.1+0.1+0.1==0.3 #用 ==是因為一個是賦值的意思，一個是判斷式(例如>,<)"
   ]
  },
  {
   "cell_type": "code",
   "execution_count": 5,
   "id": "6212f0fd",
   "metadata": {},
   "outputs": [
    {
     "data": {
      "text/plain": [
       "False"
      ]
     },
     "execution_count": 5,
     "metadata": {},
     "output_type": "execute_result"
    }
   ],
   "source": [
    "round(.1,1)+round(.1,1)+round(.1,1)==round(.3,1)"
   ]
  },
  {
   "cell_type": "code",
   "execution_count": 6,
   "id": "26063998",
   "metadata": {},
   "outputs": [
    {
     "data": {
      "text/plain": [
       "True"
      ]
     },
     "execution_count": 6,
     "metadata": {},
     "output_type": "execute_result"
    }
   ],
   "source": [
    "round(.1+.1+.1,10)==round(.3,10)"
   ]
  },
  {
   "cell_type": "markdown",
   "id": "0bde19ca",
   "metadata": {},
   "source": [
    "# Tuple"
   ]
  },
  {
   "cell_type": "code",
   "execution_count": 7,
   "id": "e4ac0e9a",
   "metadata": {},
   "outputs": [
    {
     "name": "stdout",
     "output_type": "stream",
     "text": [
      "True\n",
      "2\n"
     ]
    }
   ],
   "source": [
    "tuple_a = 1, 2\n",
    "tuple_b = (1, 2)\n",
    "\n",
    "print(tuple_a == tuple_b)\n",
    "print(tuple_a[1])"
   ]
  },
  {
   "cell_type": "markdown",
   "id": "86afc7ab",
   "metadata": {},
   "source": [
    "# 字典的key，類型需為不可變。"
   ]
  },
  {
   "cell_type": "markdown",
   "id": "231789b9",
   "metadata": {},
   "source": [
    "可為key類型:str,int,float\n",
    "list不行，因為可以通過添加和刪除元素更改列表，因此列表是可變的。"
   ]
  },
  {
   "cell_type": "code",
   "execution_count": 8,
   "id": "2b6e6b48",
   "metadata": {},
   "outputs": [
    {
     "name": "stdout",
     "output_type": "stream",
     "text": [
      "True\n",
      "None\n",
      "6\n",
      "2\n"
     ]
    },
    {
     "ename": "KeyError",
     "evalue": "'dilithium'",
     "output_type": "error",
     "traceback": [
      "\u001b[1;31m---------------------------------------------------------------------------\u001b[0m",
      "\u001b[1;31mKeyError\u001b[0m                                  Traceback (most recent call last)",
      "\u001b[1;32m~\\AppData\\Local\\Temp/ipykernel_4900/2792300915.py\u001b[0m in \u001b[0;36m<module>\u001b[1;34m\u001b[0m\n\u001b[0;32m      5\u001b[0m \u001b[0mprint\u001b[0m\u001b[1;33m(\u001b[0m\u001b[0melements\u001b[0m\u001b[1;33m.\u001b[0m\u001b[0mget\u001b[0m\u001b[1;33m(\u001b[0m\u001b[1;34m\"carbon\"\u001b[0m\u001b[1;33m)\u001b[0m\u001b[1;33m)\u001b[0m \u001b[1;31m#.get，取得對應的value\u001b[0m\u001b[1;33m\u001b[0m\u001b[1;33m\u001b[0m\u001b[0m\n\u001b[0;32m      6\u001b[0m \u001b[0mprint\u001b[0m\u001b[1;33m(\u001b[0m\u001b[0melements\u001b[0m\u001b[1;33m[\u001b[0m\u001b[1;34m\"helium\"\u001b[0m\u001b[1;33m]\u001b[0m\u001b[1;33m)\u001b[0m \u001b[1;31m#或這樣寫\u001b[0m\u001b[1;33m\u001b[0m\u001b[1;33m\u001b[0m\u001b[0m\n\u001b[1;32m----> 7\u001b[1;33m \u001b[0mprint\u001b[0m\u001b[1;33m(\u001b[0m\u001b[0melements\u001b[0m\u001b[1;33m[\u001b[0m\u001b[1;34m\"dilithium\"\u001b[0m\u001b[1;33m]\u001b[0m\u001b[1;33m)\u001b[0m \u001b[1;31m#[]會keyerror，所以用.get比較不會造成breakdown\u001b[0m\u001b[1;33m\u001b[0m\u001b[1;33m\u001b[0m\u001b[0m\n\u001b[0m",
      "\u001b[1;31mKeyError\u001b[0m: 'dilithium'"
     ]
    }
   ],
   "source": [
    "#查找字典\n",
    "elements = {\"hydrogen\": 1, \"helium\": 2, \"carbon\": 6}\n",
    "print(\"carbon\" in elements)\n",
    "print(elements.get(\"dilithium\")) #找不到，回傳none\n",
    "print(elements.get(\"carbon\")) #.get，取得對應的value\n",
    "print(elements[\"helium\"]) #或這樣寫\n",
    "print(elements[\"dilithium\"]) #[]會keyerror，所以用.get比較不會造成breakdown"
   ]
  },
  {
   "cell_type": "markdown",
   "id": "d426d132",
   "metadata": {},
   "source": [
    "# == 與 is"
   ]
  },
  {
   "cell_type": "markdown",
   "id": "47d221ea",
   "metadata": {},
   "source": [
    "is\t檢查兩邊是否恆等\n",
    "is not\t檢查兩邊是否不恒等"
   ]
  },
  {
   "cell_type": "code",
   "execution_count": 9,
   "id": "b1b66b1a",
   "metadata": {},
   "outputs": [
    {
     "name": "stdout",
     "output_type": "stream",
     "text": [
      "True\n",
      "True\n",
      "True\n",
      "False\n",
      "False\n"
     ]
    }
   ],
   "source": [
    "a = [1, 2, 3]\n",
    "b = a\n",
    "c = [1, 2, 3]\n",
    "\n",
    "print(a == b)\n",
    "print(a is b)\n",
    "print(a == c)\n",
    "print(a is c)\n",
    "print(a is not b)"
   ]
  },
  {
   "cell_type": "markdown",
   "id": "9f086f24",
   "metadata": {},
   "source": [
    "# 複合數據結構 (字典中的字典)"
   ]
  },
  {
   "cell_type": "code",
   "execution_count": 11,
   "id": "82c64e84",
   "metadata": {},
   "outputs": [
    {
     "name": "stdout",
     "output_type": "stream",
     "text": [
      "{'number': 2, 'weight': 4.002602, 'symbol': 'He'}\n",
      "1.00794\n"
     ]
    }
   ],
   "source": [
    "elements = {\"hydrogen\": {\"number\": 1,\n",
    "                         \"weight\": 1.00794,\n",
    "                         \"symbol\": \"H\"},\n",
    "              \"helium\": {\"number\": 2,\n",
    "                         \"weight\": 4.002602,\n",
    "                         \"symbol\": \"He\"}}\n",
    "\n",
    "helium = elements[\"helium\"]  # get the helium dictionary\n",
    "hydrogen_weight = elements[\"hydrogen\"][\"weight\"]  # get hydrogen's weight\n",
    "print(helium)\n",
    "print(hydrogen_weight)"
   ]
  },
  {
   "cell_type": "markdown",
   "id": "1c5f5cc0",
   "metadata": {},
   "source": [
    "# Boolean"
   ]
  },
  {
   "cell_type": "code",
   "execution_count": 12,
   "id": "3df385f7",
   "metadata": {},
   "outputs": [
    {
     "data": {
      "text/plain": [
       "True"
      ]
     },
     "execution_count": 12,
     "metadata": {},
     "output_type": "execute_result"
    }
   ],
   "source": [
    "altitude = 10000\n",
    "speed = 250\n",
    "propulsion = \"Propeller\"\n",
    "\n",
    "(altitude > 500 and speed > 100) or not propulsion == \"Propeller\"\n",
    "#前面true 後面false ，or的結果是true"
   ]
  },
  {
   "cell_type": "code",
   "execution_count": 13,
   "id": "cd072a0a",
   "metadata": {},
   "outputs": [
    {
     "name": "stdout",
     "output_type": "stream",
     "text": [
      "Hello!\n",
      "Hello!\n",
      "Hello!\n"
     ]
    }
   ],
   "source": [
    "for i in range(3):\n",
    "    print(\"Hello!\")"
   ]
  },
  {
   "cell_type": "markdown",
   "id": "79ce275f",
   "metadata": {},
   "source": [
    "# for練習"
   ]
  },
  {
   "cell_type": "code",
   "execution_count": 14,
   "id": "1f21f4f3",
   "metadata": {},
   "outputs": [
    {
     "name": "stdout",
     "output_type": "stream",
     "text": [
      "['joey_tribbiani', 'monica_geller', 'chandler_bing', 'phoebe_buffay']\n"
     ]
    }
   ],
   "source": [
    "names = [\"Joey Tribbiani\", \"Monica Geller\", \"Chandler Bing\", \"Phoebe Buffay\"]\n",
    "usernames = []\n",
    "\n",
    "for name in names:\n",
    "    usernames.append(name.lower().replace(\" \",\"_\"))\n",
    "\n",
    "print(usernames)"
   ]
  },
  {
   "cell_type": "code",
   "execution_count": 40,
   "id": "4c2e04d7",
   "metadata": {},
   "outputs": [
    {
     "name": "stdout",
     "output_type": "stream",
     "text": [
      "['Joey Tribbiani', 'Monica Geller', 'Chandler Bing', 'Phoebe Buffay']\n",
      "phoebe_buffay\n"
     ]
    }
   ],
   "source": [
    "#沒有效果\n",
    "names = [\"Joey Tribbiani\", \"Monica Geller\", \"Chandler Bing\", \"Phoebe Buffay\"]\n",
    "for name in names:\n",
    "    name = name.lower().replace(\" \", \"_\")\n",
    "\n",
    "print(names) #因為只是創立了另一個name，names沒被動到\n",
    "print(name) #等同一次抓一個，第一次完會是joey_tribbiani，第二次就被monica_geller覆寫掉，以此類推"
   ]
  },
  {
   "cell_type": "code",
   "execution_count": 41,
   "id": "194e8bf5",
   "metadata": {},
   "outputs": [
    {
     "name": "stdout",
     "output_type": "stream",
     "text": [
      "joey_tribbiani\n",
      "monica_geller\n",
      "chandler_bing\n",
      "phoebe_buffay\n"
     ]
    }
   ],
   "source": [
    "#解釋上面原因\n",
    "names = [\"Joey Tribbiani\", \"Monica Geller\", \"Chandler Bing\", \"Phoebe Buffay\"]\n",
    "for i in range(0,4):\n",
    "    name = names[i].lower().replace(\" \",\"_\")\n",
    "    print(name)"
   ]
  },
  {
   "cell_type": "code",
   "execution_count": 16,
   "id": "ca1fafe1",
   "metadata": {},
   "outputs": [
    {
     "name": "stdout",
     "output_type": "stream",
     "text": [
      "['joey_tribbiani', 'monica_geller', 'chandler_bing', 'phoebe_buffay']\n"
     ]
    }
   ],
   "source": [
    "#用RANGE改\n",
    "usernames = [\"Joey Tribbiani\", \"Monica Geller\", \"Chandler Bing\", \"Phoebe Buffay\"]\n",
    "\n",
    "for i in range(len(usernames)):\n",
    "    usernames[i] = usernames[i].lower().replace(\" \", \"_\")\n",
    "\n",
    "print(usernames)"
   ]
  },
  {
   "cell_type": "code",
   "execution_count": 17,
   "id": "4320c1d2",
   "metadata": {},
   "outputs": [
    {
     "name": "stdout",
     "output_type": "stream",
     "text": [
      "2\n"
     ]
    }
   ],
   "source": [
    "tokens = ['<greeting>', 'Hello World!', '</greeting>']\n",
    "count = 0\n",
    "\n",
    "# write your for loop here\n",
    "for token in tokens:\n",
    "    if token[0]==\"<\"and token[-1]==\">\":\n",
    "        count+=1\n",
    "    \n",
    "print(count)"
   ]
  },
  {
   "cell_type": "code",
   "execution_count": 18,
   "id": "03b35ca8",
   "metadata": {},
   "outputs": [
    {
     "data": {
      "text/plain": [
       "'<'"
      ]
     },
     "execution_count": 18,
     "metadata": {},
     "output_type": "execute_result"
    }
   ],
   "source": [
    "z=\"<greeting>\"\n",
    "z[0]"
   ]
  },
  {
   "cell_type": "code",
   "execution_count": 19,
   "id": "e51f6ecb",
   "metadata": {},
   "outputs": [
    {
     "name": "stdout",
     "output_type": "stream",
     "text": [
      "<ul>\n",
      "<li>first string</li>\n",
      "<li>second string</li>\n",
      "</ul>\n"
     ]
    }
   ],
   "source": [
    "items = ['first string', 'second string']\n",
    "\n",
    "html_str = \"<ul>\\n\"\n",
    "for item in items:\n",
    "    html_str += \"<li>{}</li>\\n\".format(item)\n",
    "html_str += \"</ul>\"\n",
    "\n",
    "print(html_str)"
   ]
  },
  {
   "cell_type": "markdown",
   "id": "ac2d4268",
   "metadata": {},
   "source": [
    "# for while簡介"
   ]
  },
  {
   "cell_type": "markdown",
   "id": "8ea247b4",
   "metadata": {},
   "source": [
    "For 循環是一種“有限迭代”，意味著循環主體將運行預定義的次數。這與“無限迭代”循環不同，無限迭代循環是指循環重複未知次數，\n",
    "並在滿足某個條件時結束，while 循環正是這種情況。下面是一個 while 循環的示例。"
   ]
  },
  {
   "cell_type": "markdown",
   "id": "592f0dba",
   "metadata": {},
   "source": [
    "# break continue"
   ]
  },
  {
   "cell_type": "code",
   "execution_count": 3,
   "id": "9b4a6487",
   "metadata": {},
   "outputs": [
    {
     "name": "stdout",
     "output_type": "stream",
     "text": [
      "METHOD 1\n",
      "current weight: 0\n",
      "  adding bananas (15)\n",
      "current weight: 15\n",
      "  adding mattresses (24)\n",
      "current weight: 39\n",
      "  adding dog kennels (42)\n",
      "current weight: 81\n",
      "  adding machine (120)\n",
      "current weight: 201\n",
      "  breaking loop now!\n",
      "\n",
      "Final Weight: 201\n",
      "Final Items: ['bananas', 'mattresses', 'dog kennels', 'machine']\n",
      "\n",
      "METHOD 2\n",
      "current weight: 0\n",
      "  adding bananas (15)\n",
      "current weight: 15\n",
      "  adding mattresses (24)\n",
      "current weight: 39\n",
      "  adding dog kennels (42)\n",
      "current weight: 81\n",
      "  skipping machine (120)\n",
      "current weight: 81\n",
      "  adding cheeses (5)\n",
      "\n",
      "Final Weight: 86\n",
      "Final Items: ['bananas', 'mattresses', 'dog kennels', 'cheeses']\n"
     ]
    }
   ],
   "source": [
    "#觀察方法一和二的差別\n",
    "manifest = [(\"bananas\", 15), (\"mattresses\", 24), (\"dog kennels\", 42), (\"machine\", 120), (\"cheeses\", 5)]\n",
    "\n",
    "# the code breaks the loop when weight exceeds or reaches the limit\n",
    "print(\"METHOD 1\")\n",
    "weight = 0\n",
    "items = []\n",
    "for cargo_name, cargo_weight in manifest:\n",
    "    print(\"current weight: {}\".format(weight))\n",
    "    if weight >= 100:\n",
    "        print(\"  breaking loop now!\")\n",
    "        break\n",
    "    else:\n",
    "        print(\"  adding {} ({})\".format(cargo_name, cargo_weight))\n",
    "        items.append(cargo_name)\n",
    "        weight += cargo_weight\n",
    "\n",
    "print(\"\\nFinal Weight: {}\".format(weight))\n",
    "print(\"Final Items: {}\".format(items))\n",
    "\n",
    "# skips an iteration when adding an item would exceed the limit\n",
    "# breaks the loop if weight is exactly the value of the limit\n",
    "print(\"\\nMETHOD 2\")\n",
    "weight = 0\n",
    "items = []\n",
    "for cargo_name, cargo_weight in manifest:\n",
    "    print(\"current weight: {}\".format(weight))\n",
    "    if weight >= 100:\n",
    "        print(\"  breaking from the loop now!\")\n",
    "        break\n",
    "    elif weight + cargo_weight > 100:\n",
    "        print(\"  skipping {} ({})\".format(cargo_name, cargo_weight))\n",
    "        continue\n",
    "    else:\n",
    "        print(\"  adding {} ({})\".format(cargo_name, cargo_weight))\n",
    "        items.append(cargo_name)\n",
    "        weight += cargo_weight\n",
    "\n",
    "print(\"\\nFinal Weight: {}\".format(weight))\n",
    "print(\"Final Items: {}\".format(items))"
   ]
  },
  {
   "cell_type": "markdown",
   "id": "e7f346d5",
   "metadata": {},
   "source": [
    "# Zip"
   ]
  },
  {
   "cell_type": "code",
   "execution_count": 1,
   "id": "8590ec03",
   "metadata": {},
   "outputs": [
    {
     "data": {
      "text/plain": [
       "[('a', 1), ('b', 2), ('c', 3)]"
      ]
     },
     "execution_count": 1,
     "metadata": {},
     "output_type": "execute_result"
    }
   ],
   "source": [
    "list(zip(['a', 'b', 'c'], [1, 2, 3]))"
   ]
  },
  {
   "cell_type": "code",
   "execution_count": 2,
   "id": "7c3432cb",
   "metadata": {},
   "outputs": [
    {
     "name": "stdout",
     "output_type": "stream",
     "text": [
      "a: 1\n",
      "b: 2\n",
      "c: 3\n"
     ]
    }
   ],
   "source": [
    "letters = ['a', 'b', 'c']\n",
    "nums = [1, 2, 3]\n",
    "\n",
    "for letter, num in zip(letters, nums):\n",
    "    print(\"{}: {}\".format(letter, num))"
   ]
  },
  {
   "cell_type": "code",
   "execution_count": 4,
   "id": "198a9279",
   "metadata": {},
   "outputs": [
    {
     "name": "stdout",
     "output_type": "stream",
     "text": [
      "('a', 'b', 'c')\n",
      "(1, 2, 3)\n"
     ]
    }
   ],
   "source": [
    "#星號拆分列表\n",
    "some_list = [('a', 1), ('b', 2), ('c', 3)]\n",
    "letters, nums = zip(*some_list)\n",
    "print(letters)\n",
    "print(nums)"
   ]
  },
  {
   "cell_type": "code",
   "execution_count": 7,
   "id": "cd6b102c",
   "metadata": {},
   "outputs": [
    {
     "name": "stdout",
     "output_type": "stream",
     "text": [
      "F:23,677,4\n",
      "J:53,233,16\n",
      "A:2,405,-6\n",
      "Q:-12,433,-42\n",
      "Y:95,905,3\n",
      "B:103,376,-6\n",
      "W:14,432,23\n",
      "X:-5,445,-1\n"
     ]
    }
   ],
   "source": [
    "x_coord = [23, 53, 2, -12, 95, 103, 14, -5]\n",
    "y_coord = [677, 233, 405, 433, 905, 376, 432, 445]\n",
    "z_coord = [4, 16, -6, -42, 3, -6, 23, -1]\n",
    "labels = [\"F\", \"J\", \"A\", \"Q\", \"Y\", \"B\", \"W\", \"X\"]\n",
    "\n",
    "points = []\n",
    "# write your for loop here\n",
    "for point in zip(labels,x_coord,y_coord,z_coord):\n",
    "    points.append(\"{}:{},{},{}\".format(point[0],point[1],point[2],point[3])) #或寫.format(*point)就好\n",
    "\n",
    "for point in points:\n",
    "    print(point)"
   ]
  },
  {
   "cell_type": "markdown",
   "id": "cbb13139",
   "metadata": {},
   "source": [
    "題目: 將列表組合成字典"
   ]
  },
  {
   "cell_type": "code",
   "execution_count": 8,
   "id": "fadebf3f",
   "metadata": {},
   "outputs": [
    {
     "name": "stdout",
     "output_type": "stream",
     "text": [
      "{'Barney': 72, 'Robin': 68, 'Ted': 72, 'Lily': 66, 'Marshall': 76}\n"
     ]
    }
   ],
   "source": [
    "cast_names = [\"Barney\", \"Robin\", \"Ted\", \"Lily\", \"Marshall\"]\n",
    "cast_heights = [72, 68, 72, 66, 76]\n",
    "\n",
    "cast=dict(zip(cast_names,cast_heights))\n",
    "print(cast)"
   ]
  },
  {
   "cell_type": "markdown",
   "id": "bac44b35",
   "metadata": {},
   "source": [
    "題目: 將 cast 元組拆封成兩個 names 和 heights 元組(tuple)"
   ]
  },
  {
   "cell_type": "code",
   "execution_count": 10,
   "id": "160e6ac4",
   "metadata": {},
   "outputs": [
    {
     "name": "stdout",
     "output_type": "stream",
     "text": [
      "('Barney', 'Robin', 'Ted', 'Lily', 'Marshall')\n",
      "(72, 68, 72, 66, 76)\n"
     ]
    }
   ],
   "source": [
    "cast = ((\"Barney\", 72), (\"Robin\", 68), (\"Ted\", 72), (\"Lily\", 66), (\"Marshall\", 76))\n",
    "\n",
    "# define names and heights here\n",
    "names, heights = zip(*cast)\n",
    "\n",
    "print(names)\n",
    "print(heights)"
   ]
  },
  {
   "cell_type": "markdown",
   "id": "594404ac",
   "metadata": {},
   "source": [
    "題目: 用zip進行轉置transpose"
   ]
  },
  {
   "cell_type": "code",
   "execution_count": 11,
   "id": "ade4504d",
   "metadata": {},
   "outputs": [
    {
     "name": "stdout",
     "output_type": "stream",
     "text": [
      "((0, 3, 6, 9), (1, 4, 7, 10), (2, 5, 8, 11))\n"
     ]
    }
   ],
   "source": [
    "data = ((0, 1, 2), (3, 4, 5), (6, 7, 8), (9, 10, 11))\n",
    "#從4*3轉成3*4\n",
    "data_transpose = tuple(zip(*data))\n",
    "print(data_transpose)"
   ]
  },
  {
   "cell_type": "markdown",
   "id": "d70e84a4",
   "metadata": {},
   "source": [
    "# Enumerate"
   ]
  },
  {
   "cell_type": "markdown",
   "id": "ad883ab1",
   "metadata": {},
   "source": [
    "是一個會返回元組迭代器的內置函數，這些元組包含列表的索引和值。當你需要在循環中獲取可迭代對象的每個元素及其索引時，將經常用到該函數。"
   ]
  },
  {
   "cell_type": "code",
   "execution_count": 5,
   "id": "5a579c38",
   "metadata": {},
   "outputs": [
    {
     "name": "stdout",
     "output_type": "stream",
     "text": [
      "0 a\n",
      "1 b\n",
      "2 c\n",
      "3 d\n",
      "4 e\n"
     ]
    }
   ],
   "source": [
    "letters = ['a', 'b', 'c', 'd', 'e']\n",
    "for i, letter in enumerate(letters):\n",
    "    print(i, letter)"
   ]
  },
  {
   "cell_type": "markdown",
   "id": "11fa4c46",
   "metadata": {},
   "source": [
    "使用 enumerate 修改列表 cast，使每個元素都包含姓名，然後是角色的對應身高。\n",
    "例如，cast 的第一個元素應該從 \"Barney Stinson\" 更改為 \"Barney Stinson 72”。"
   ]
  },
  {
   "cell_type": "code",
   "execution_count": 12,
   "id": "1724269b",
   "metadata": {},
   "outputs": [
    {
     "name": "stdout",
     "output_type": "stream",
     "text": [
      "['Barney Stinson 72', 'Robin Scherbatsky 68', 'Ted Mosby 72', 'Lily Aldrin 66', 'Marshall Eriksen 76']\n"
     ]
    }
   ],
   "source": [
    "cast = [\"Barney Stinson\", \"Robin Scherbatsky\", \"Ted Mosby\", \"Lily Aldrin\", \"Marshall Eriksen\"]\n",
    "heights = [72, 68, 72, 66, 76]\n",
    "\n",
    "for i, character in enumerate(cast):\n",
    "    cast[i] = character + \" \" + str(heights[i])\n",
    "\n",
    "print(cast)"
   ]
  },
  {
   "cell_type": "markdown",
   "id": "21decc2a",
   "metadata": {},
   "source": [
    "# 列表推導式"
   ]
  },
  {
   "cell_type": "code",
   "execution_count": 20,
   "id": "ff861f7d",
   "metadata": {},
   "outputs": [
    {
     "name": "stdout",
     "output_type": "stream",
     "text": [
      "['A']\n",
      "['A', 'B']\n",
      "['A', 'B', 'C']\n"
     ]
    }
   ],
   "source": [
    "cities=[\"a\",\"b\",\"c\"]\n",
    "capitalized_cities = []\n",
    "for city in cities:\n",
    "    capitalized_cities.append(city.title())\n",
    "    print(capitalized_cities)"
   ]
  },
  {
   "cell_type": "code",
   "execution_count": 21,
   "id": "9124e00f",
   "metadata": {},
   "outputs": [
    {
     "name": "stdout",
     "output_type": "stream",
     "text": [
      "['A', 'B', 'C']\n"
     ]
    }
   ],
   "source": [
    "cities=[\"a\",\"b\",\"c\"]\n",
    "capitalized_cities = [city.title() for city in cities]\n",
    "print(capitalized_cities)"
   ]
  },
  {
   "cell_type": "code",
   "execution_count": 23,
   "id": "8c538eb7",
   "metadata": {},
   "outputs": [
    {
     "name": "stdout",
     "output_type": "stream",
     "text": [
      "[0, 4, 16, 36, 64]\n"
     ]
    }
   ],
   "source": [
    "squares = [x**2 for x in range(9) if x % 2 == 0]\n",
    "print(squares)"
   ]
  },
  {
   "cell_type": "code",
   "execution_count": 24,
   "id": "e54fddd2",
   "metadata": {},
   "outputs": [
    {
     "name": "stdout",
     "output_type": "stream",
     "text": [
      "[0, 4, 4, 6, 16, 8, 36, 10, 64]\n"
     ]
    }
   ],
   "source": [
    "#添加 else，則需要將條件語句移到列表推導式的開頭，直接放在表達式後面\n",
    "squares = [x**2 if x % 2 == 0 else x + 3 for x in range(9)]\n",
    "print(squares)"
   ]
  },
  {
   "cell_type": "code",
   "execution_count": 25,
   "id": "e8fa5bbb",
   "metadata": {},
   "outputs": [
    {
     "name": "stdout",
     "output_type": "stream",
     "text": [
      "['rick', 'morty', 'summer', 'jerry', 'beth']\n"
     ]
    }
   ],
   "source": [
    "names = [\"Rick Sanchez\", \"Morty Smith\", \"Summer Smith\", \"Jerry Smith\", \"Beth Smith\"]\n",
    "\n",
    "first_names = [name.split()[0].lower()for name in names]# write your list comprehension here\n",
    "print(first_names)"
   ]
  },
  {
   "cell_type": "code",
   "execution_count": 27,
   "id": "69df8783",
   "metadata": {},
   "outputs": [
    {
     "name": "stdout",
     "output_type": "stream",
     "text": [
      "['Rick Sanchez', 'Summer Smith', 'Beth Smith']\n"
     ]
    }
   ],
   "source": [
    "scores = {\n",
    "             \"Rick Sanchez\": 70,\n",
    "             \"Morty Smith\": 35,\n",
    "             \"Summer Smith\": 82,\n",
    "             \"Jerry Smith\": 23,\n",
    "             \"Beth Smith\": 98\n",
    "          }\n",
    "\n",
    "passed = [name for name,score in scores.items() if score>=65] # write your list comprehension here\n",
    "print(passed)"
   ]
  },
  {
   "cell_type": "markdown",
   "id": "6aa3b5a4",
   "metadata": {},
   "source": [
    "# 函數變量作用域"
   ]
  },
  {
   "cell_type": "markdown",
   "id": "7e775771",
   "metadata": {},
   "source": [
    "變量作用域是指可以在程序的哪個部分引用或使用某個變量。\n",
    "\n",
    "在函數中使用變量時，務必要考慮作用域。如果變量是在函數內創建的，則只能在該函數內使用該變量。你無法從該函數外面訪問該變量。\n",
    "\n",
    "建議將變量定義在所需的最小作用域內。雖然函數_可以_引用在更大的作用域內定義的變量，但是通常不建議這麼做，因為如果程序有很多變量，你可能不知道你定義了什麼變量。"
   ]
  },
  {
   "cell_type": "code",
   "execution_count": 28,
   "id": "564ba7cc",
   "metadata": {},
   "outputs": [
    {
     "ename": "NameError",
     "evalue": "name 'word' is not defined",
     "output_type": "error",
     "traceback": [
      "\u001b[1;31m---------------------------------------------------------------------------\u001b[0m",
      "\u001b[1;31mNameError\u001b[0m                                 Traceback (most recent call last)",
      "\u001b[1;32m~\\AppData\\Local\\Temp/ipykernel_9368/3790087631.py\u001b[0m in \u001b[0;36m<module>\u001b[1;34m\u001b[0m\n\u001b[0;32m      3\u001b[0m     \u001b[0mword\u001b[0m \u001b[1;33m=\u001b[0m \u001b[1;34m\"hello\"\u001b[0m\u001b[1;33m\u001b[0m\u001b[1;33m\u001b[0m\u001b[0m\n\u001b[0;32m      4\u001b[0m \u001b[1;33m\u001b[0m\u001b[0m\n\u001b[1;32m----> 5\u001b[1;33m \u001b[0mprint\u001b[0m\u001b[1;33m(\u001b[0m\u001b[0mword\u001b[0m\u001b[1;33m)\u001b[0m\u001b[1;33m\u001b[0m\u001b[1;33m\u001b[0m\u001b[0m\n\u001b[0m",
      "\u001b[1;31mNameError\u001b[0m: name 'word' is not defined"
     ]
    }
   ],
   "source": [
    "# This will result in an error\n",
    "def some_function():\n",
    "    word = \"hello\"\n",
    "\n",
    "print(word)"
   ]
  },
  {
   "cell_type": "code",
   "execution_count": 29,
   "id": "e7b14b52",
   "metadata": {},
   "outputs": [
    {
     "ename": "UnboundLocalError",
     "evalue": "local variable 'egg_count' referenced before assignment",
     "output_type": "error",
     "traceback": [
      "\u001b[1;31m---------------------------------------------------------------------------\u001b[0m",
      "\u001b[1;31mUnboundLocalError\u001b[0m                         Traceback (most recent call last)",
      "\u001b[1;32m~\\AppData\\Local\\Temp/ipykernel_9368/799689546.py\u001b[0m in \u001b[0;36m<module>\u001b[1;34m\u001b[0m\n\u001b[0;32m      4\u001b[0m     \u001b[0megg_count\u001b[0m \u001b[1;33m+=\u001b[0m \u001b[1;36m12\u001b[0m \u001b[1;31m# purchase a dozen eggs\u001b[0m\u001b[1;33m\u001b[0m\u001b[1;33m\u001b[0m\u001b[0m\n\u001b[0;32m      5\u001b[0m \u001b[1;33m\u001b[0m\u001b[0m\n\u001b[1;32m----> 6\u001b[1;33m \u001b[0mbuy_eggs\u001b[0m\u001b[1;33m(\u001b[0m\u001b[1;33m)\u001b[0m\u001b[1;33m\u001b[0m\u001b[1;33m\u001b[0m\u001b[0m\n\u001b[0m",
      "\u001b[1;32m~\\AppData\\Local\\Temp/ipykernel_9368/799689546.py\u001b[0m in \u001b[0;36mbuy_eggs\u001b[1;34m()\u001b[0m\n\u001b[0;32m      2\u001b[0m \u001b[1;33m\u001b[0m\u001b[0m\n\u001b[0;32m      3\u001b[0m \u001b[1;32mdef\u001b[0m \u001b[0mbuy_eggs\u001b[0m\u001b[1;33m(\u001b[0m\u001b[1;33m)\u001b[0m\u001b[1;33m:\u001b[0m\u001b[1;33m\u001b[0m\u001b[1;33m\u001b[0m\u001b[0m\n\u001b[1;32m----> 4\u001b[1;33m     \u001b[0megg_count\u001b[0m \u001b[1;33m+=\u001b[0m \u001b[1;36m12\u001b[0m \u001b[1;31m# purchase a dozen eggs\u001b[0m\u001b[1;33m\u001b[0m\u001b[1;33m\u001b[0m\u001b[0m\n\u001b[0m\u001b[0;32m      5\u001b[0m \u001b[1;33m\u001b[0m\u001b[0m\n\u001b[0;32m      6\u001b[0m \u001b[0mbuy_eggs\u001b[0m\u001b[1;33m(\u001b[0m\u001b[1;33m)\u001b[0m\u001b[1;33m\u001b[0m\u001b[1;33m\u001b[0m\u001b[0m\n",
      "\u001b[1;31mUnboundLocalError\u001b[0m: local variable 'egg_count' referenced before assignment"
     ]
    }
   ],
   "source": [
    "#因為 Python 不允許函數修改不在函數作用域內的變量。\n",
    "egg_count = 0\n",
    "def buy_eggs():\n",
    "    egg_count += 12 # purchase a dozen eggs\n",
    "buy_eggs()"
   ]
  },
  {
   "cell_type": "markdown",
   "id": "e139ea9f",
   "metadata": {},
   "source": [
    "# Lambda "
   ]
  },
  {
   "cell_type": "markdown",
   "id": "2f00d617",
   "metadata": {},
   "source": [
    "lambda之後是該匿名函數的一個或多個參數（用英文逗號分隔），然後是一個英文冒號 :。和函數相似，lambda 表達式中的參數名稱是隨意的。\n",
    "鑑於這種結構，lambda 表達式不太適合複雜的函數，但是非常適合簡短的函數"
   ]
  },
  {
   "cell_type": "code",
   "execution_count": 30,
   "id": "cacee6d9",
   "metadata": {},
   "outputs": [],
   "source": [
    "def multiply(x, y):\n",
    "    return x * y"
   ]
  },
  {
   "cell_type": "code",
   "execution_count": 31,
   "id": "14386f9a",
   "metadata": {},
   "outputs": [],
   "source": [
    "double = lambda x, y: x * y"
   ]
  },
  {
   "cell_type": "code",
   "execution_count": 32,
   "id": "0679ad63",
   "metadata": {},
   "outputs": [
    {
     "name": "stdout",
     "output_type": "stream",
     "text": [
      "[57.0, 58.2, 50.6, 27.2]\n"
     ]
    }
   ],
   "source": [
    "# Lambda 與 Map\n",
    "numbers = [\n",
    "              [34, 63, 88, 71, 29],\n",
    "              [90, 78, 51, 27, 45],\n",
    "              [63, 37, 85, 46, 22],\n",
    "              [51, 22, 34, 11, 18]\n",
    "           ]\n",
    "\n",
    "def mean(num_list):\n",
    "    return sum(num_list) / len(num_list)\n",
    "\n",
    "averages = list(map(mean, numbers))\n",
    "print(averages)"
   ]
  },
  {
   "cell_type": "code",
   "execution_count": 33,
   "id": "5a978865",
   "metadata": {},
   "outputs": [
    {
     "name": "stdout",
     "output_type": "stream",
     "text": [
      "['Chicago', 'Denver', 'Boston']\n"
     ]
    }
   ],
   "source": [
    "#Lambda 與 Filter\n",
    "cities = [\"New York City\", \"Los Angeles\", \"Chicago\", \"Mountain View\", \"Denver\", \"Boston\"]\n",
    "\n",
    "def is_short(name):\n",
    "    return len(name) < 10\n",
    "\n",
    "short_cities = list(filter(is_short, cities))\n",
    "print(short_cities)"
   ]
  },
  {
   "cell_type": "markdown",
   "id": "cc564dc9",
   "metadata": {},
   "source": [
    "# 為何要使用生成器？"
   ]
  },
  {
   "cell_type": "markdown",
   "id": "afdae016",
   "metadata": {},
   "source": [
    "由於使用生成器是一次處理一個數據，在內存和存儲的需求上會比使用 list 方式直接全部生成再存儲節省很多資源。\n",
    "\n",
    "由此區別，在處理大量數據時，經常使用生成器初步處理數據後，再進行長期存儲，而不是使用 list。因為無論使用生成器還是 list，都是使用過就要丟棄的臨時數據。既然功能和結果一樣，那就不如用生成器。\n",
    "\n",
    "但是生成器也有自己的局限，它產生的數據不能回溯，不像 list 可以任意選擇。"
   ]
  },
  {
   "cell_type": "code",
   "execution_count": 34,
   "id": "a070f95b",
   "metadata": {},
   "outputs": [
    {
     "name": "stdout",
     "output_type": "stream",
     "text": [
      "Lesson 1: Why Python Programming\n",
      "Lesson 2: Data Types and Operators\n",
      "Lesson 3: Control Flow\n",
      "Lesson 4: Functions\n",
      "Lesson 5: Scripting\n"
     ]
    }
   ],
   "source": [
    "lessons = [\"Why Python Programming\", \"Data Types and Operators\", \"Control Flow\", \"Functions\", \"Scripting\"]\n",
    "\n",
    "def my_enumerate(iterable, start=0):\n",
    "    count = start\n",
    "    for element in iterable:\n",
    "        yield count, element\n",
    "        count += 1\n",
    "\n",
    "for i, lesson in my_enumerate(lessons, 1):\n",
    "    print(\"Lesson {}: {}\".format(i, lesson))"
   ]
  },
  {
   "cell_type": "markdown",
   "id": "ede1f04a",
   "metadata": {},
   "source": [
    "# Try"
   ]
  },
  {
   "cell_type": "markdown",
   "id": "8de3857a",
   "metadata": {},
   "source": [
    "try：這是 try 語句中的唯一必需子句。該塊中的代碼是 Python 在 try 語句中首先運行的代碼。\n",
    "\n",
    "except：如果 Python 在運行 try 塊時遇到異常，它將跳到處理該異常的 except 塊。\n",
    "\n",
    "else：如果 Python 在運行 try 塊時沒有遇到異常，它將在運行 try 塊後運行該塊中的代碼。\n",
    "\n",
    "finally：在 Python 離開此 try 語句之前，在任何情形下它都將運行此 finally 塊中的代碼，即使要結束程序，例如：如果 Python 在運行 except 或 else 塊中的代碼時遇到錯誤，在停止程序之前，依然會執行此finally 塊。"
   ]
  },
  {
   "cell_type": "code",
   "execution_count": 43,
   "id": "d41f5df7",
   "metadata": {},
   "outputs": [
    {
     "name": "stdout",
     "output_type": "stream",
     "text": [
      "Creating 6 groups...\n",
      "6 groups returned.\n",
      "[0, 1, 2, 3, 4]\n",
      "[5, 6, 7, 8, 9]\n",
      "[10, 11, 12, 13, 14]\n",
      "[15, 16, 17, 18, 19]\n",
      "[20, 21, 22, 23, 24]\n",
      "[25, 26, 27, 28, 29]\n",
      "[30, 31]\n",
      "\n",
      "Creating 0 groups...\n",
      "WARNING: Returning empty list. Please use a nonzero number.\n",
      "0 groups returned.\n"
     ]
    }
   ],
   "source": [
    "def create_groups(items, num_groups):\n",
    "    try:\n",
    "        size = len(items) // num_groups\n",
    "    except ZeroDivisionError:\n",
    "        print(\"WARNING: Returning empty list. Please use a nonzero number.\")\n",
    "        return []\n",
    "    else:\n",
    "        groups = []\n",
    "        for i in range(0, len(items), size):\n",
    "            groups.append(items[i:i + size])\n",
    "        return groups\n",
    "    finally:\n",
    "        print(\"{} groups returned.\".format(num_groups))\n",
    "        \n",
    "\n",
    "print(\"Creating 6 groups...\")\n",
    "for group in create_groups(range(32), 6):\n",
    "    print(list(group)) \n",
    "\n",
    "print(\"\\nCreating 0 groups...\")\n",
    "for group in create_groups(range(32), 0):\n",
    "    print(list(group))"
   ]
  },
  {
   "cell_type": "markdown",
   "id": "d312d6fd",
   "metadata": {},
   "source": [
    "# 寫入文件"
   ]
  },
  {
   "cell_type": "code",
   "execution_count": 49,
   "id": "d4196dc2",
   "metadata": {},
   "outputs": [],
   "source": [
    "f = open('my_file.txt', 'w') #f = open('my_path/my_file.txt', 'w')，原本是這樣，把路徑修改或移除\n",
    "f.write(\"Hello there!\") #如果文件不存在，Python 將創建一個文件\n",
    "f.close() \n",
    "#如果以寫入模式打開現有文件，該文件中之前包含的所有內容將被刪除。\n",
    "#如果你打算向現有文件添加內容，但是不刪除其中的內容，可以使用附加 ('a') 模式，而不是寫入模式。\n",
    "f = open('my_file.txt', 'a')\n",
    "f.write(\"\\n Hello there22!\") \n",
    "f.close() "
   ]
  },
  {
   "cell_type": "markdown",
   "id": "430b49cc",
   "metadata": {},
   "source": [
    "# with"
   ]
  },
  {
   "cell_type": "markdown",
   "id": "3225b0ff",
   "metadata": {},
   "source": [
    "該 with 關鍵字使你能夠打開文件，對文件執行操作，並在縮進代碼（在此示例中是讀取文件）執行之後自動關閉文件。\n",
    "\n",
    "現在，我們不需要調用 f.close() 了！你只能在此縮進塊中訪問文件對象 f。"
   ]
  },
  {
   "cell_type": "code",
   "execution_count": 50,
   "id": "31ed8ccd",
   "metadata": {},
   "outputs": [],
   "source": [
    "with open('my_file.txt', 'r') as f:\n",
    "    file_data = f.read()"
   ]
  },
  {
   "cell_type": "markdown",
   "id": "cd15e7ce",
   "metadata": {},
   "source": [
    "# 網頁爬蟲 WikipediaCrawler"
   ]
  },
  {
   "cell_type": "markdown",
   "id": "e6f74e2d",
   "metadata": {},
   "source": [
    "點選第一個連結。然後在該頁面單擊文章主體的第一個連結，然後繼續，直到重複循環為止。可以多次嘗試不同的頁面，看看能否出現不同內容"
   ]
  },
  {
   "cell_type": "code",
   "execution_count": 6,
   "id": "cdf9b038",
   "metadata": {},
   "outputs": [
    {
     "name": "stdout",
     "output_type": "stream",
     "text": [
      "https://en.wikipedia.org/wiki/Special:Random\n",
      "https://en.wikipedia.org/wiki/Bolton_Castle\n",
      "https://en.wikipedia.org/wiki/Castle\n",
      "https://en.wikipedia.org/wiki/Fortification\n",
      "https://en.wikipedia.org/wiki/Military\n",
      "https://en.wikipedia.org/wiki/Warfare\n",
      "https://en.wikipedia.org/wiki/State_(polity)\n",
      "https://en.wikipedia.org/wiki/Polity\n",
      "https://en.wikipedia.org/wiki/Political\n",
      "https://en.wikipedia.org/wiki/Greek_language\n",
      "https://en.wikipedia.org/wiki/Modern_Greek\n",
      "https://en.wikipedia.org/wiki/Dialect\n",
      "https://en.wikipedia.org/wiki/Latin\n",
      "https://en.wikipedia.org/wiki/Classical_language\n",
      "https://en.wikipedia.org/wiki/Language\n",
      "https://en.wikipedia.org/wiki/Communication\n",
      "We've arrived at an article we've already seen, aborting search!\n",
      "執行時間：44.675181 秒\n"
     ]
    }
   ],
   "source": [
    "import time\n",
    "import urllib\n",
    "\n",
    "import bs4\n",
    "import requests\n",
    "\n",
    "start = time.time()\n",
    "\n",
    "start_url = \"https://en.wikipedia.org/wiki/Special:Random\"\n",
    "target_url = \"https://en.wikipedia.org/wiki/Philosophy\"\n",
    "\n",
    "def find_first_link(url):\n",
    "    response = requests.get(url)\n",
    "    html = response.text\n",
    "    soup = bs4.BeautifulSoup(html, \"html.parser\")\n",
    "\n",
    "    # This div contains the article's body\n",
    "    # (June 2017 Note: Body nested in two div tags)\n",
    "    content_div = soup.find(id=\"mw-content-text\").find(class_=\"mw-parser-output\")\n",
    "\n",
    "    # stores the first link found in the article, if the article contains no\n",
    "    # links this value will remain None\n",
    "    article_link = None\n",
    "\n",
    "    # Find all the direct children of content_div that are paragraphs\n",
    "    for element in content_div.find_all(\"p\", recursive=False):\n",
    "        # Find the first anchor tag that's a direct child of a paragraph.\n",
    "        # It's important to only look at direct children, because other types\n",
    "        # of link, e.g. footnotes and pronunciation, could come before the\n",
    "        # first link to an article. Those other link types aren't direct\n",
    "        # children though, they're in divs of various classes.\n",
    "        if element.find(\"a\", recursive=False):\n",
    "            article_link = element.find(\"a\", recursive=False).get('href')\n",
    "            break\n",
    "\n",
    "    if not article_link:\n",
    "        return\n",
    "\n",
    "    # Build a full url from the relative article_link url\n",
    "    first_link = urllib.parse.urljoin('https://en.wikipedia.org/', article_link)\n",
    "\n",
    "    return first_link\n",
    "\n",
    "def continue_crawl(search_history, target_url, max_steps=25):\n",
    "    if search_history[-1] == target_url:\n",
    "        print(\"We've found the target article!\")\n",
    "        return False\n",
    "    elif len(search_history) > max_steps:\n",
    "        print(\"The search has gone on suspiciously long, aborting search!\")\n",
    "        return False\n",
    "    elif search_history[-1] in search_history[:-1]:\n",
    "        print(\"We've arrived at an article we've already seen, aborting search!\")\n",
    "        return False\n",
    "    else:\n",
    "        return True\n",
    "\n",
    "article_chain = [start_url]\n",
    "\n",
    "while continue_crawl(article_chain, target_url):\n",
    "    print(article_chain[-1])\n",
    "\n",
    "    first_link = find_first_link(article_chain[-1])\n",
    "    if not first_link:\n",
    "        print(\"We've arrived at an article with no links, aborting search!\")\n",
    "        break\n",
    "\n",
    "    article_chain.append(first_link)\n",
    "\n",
    "    time.sleep(2) # Slow things down so as to not hammer Wikipedia's servers\n",
    "\n",
    "end = time.time()\n",
    "print(\"執行時間：%f 秒\" % (end - start))"
   ]
  },
  {
   "cell_type": "code",
   "execution_count": null,
   "id": "98f840f4",
   "metadata": {},
   "outputs": [],
   "source": []
  }
 ],
 "metadata": {
  "kernelspec": {
   "display_name": "Python 3 (ipykernel)",
   "language": "python",
   "name": "python3"
  },
  "language_info": {
   "codemirror_mode": {
    "name": "ipython",
    "version": 3
   },
   "file_extension": ".py",
   "mimetype": "text/x-python",
   "name": "python",
   "nbconvert_exporter": "python",
   "pygments_lexer": "ipython3",
   "version": "3.8.11"
  }
 },
 "nbformat": 4,
 "nbformat_minor": 5
}
